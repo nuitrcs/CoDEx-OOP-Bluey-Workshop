{
 "cells": [
  {
   "cell_type": "markdown",
   "id": "bf3f2169-95b2-4227-88b8-b2a41a58b498",
   "metadata": {},
   "source": [
    "# Intro to Object-Oriented Programming\n",
    "\n",
    "There are multiple programming styles, also called paradigms, that you can use when writing code. \n",
    "<br><br>Many coding languages support multiple styles, though some languages are better for different styles. \n",
    "<br><br>Different people may also have a natural preference for different styles.\n",
    "#### <br>Examples\n",
    "If you are a Python coder you may have learned a *procedural* style of coding, giving you complete control of the flow of the code - when and if each line of code should be run.\n",
    "<br>If you are an R coder, you may have heard of *Tidy data*, cleaning up your data first and then applying multiple functions over the dataset to complete your analysis.\n",
    "\n",
    "<br>It can be challenging to explain a coding style, but luckily, *Bluey* can explain Object-Oriented Programming better than I can. Specifically, Season 1, Episode 23: *Shops*."
   ]
  },
  {
   "cell_type": "markdown",
   "id": "75be0b42-620c-43a4-9226-fb9fe982582f",
   "metadata": {},
   "source": [
    "# <br>Let's watch *Shops* and learn how Object-Oriented Programming works.\n",
    "What you need to know:\n",
    "- Bluey is set in a universe exactly like ours, except dogs evolved to be the sentient beings who drive cars and go to work. Humans don't seem to exist.\n",
    "- The show is Australian. I will turn on the subtitles.\n",
    "- The episode is about 7 minutes long."
   ]
  },
  {
   "cell_type": "markdown",
   "id": "a4658a82-95d0-4a87-b167-58f73b85bd9a",
   "metadata": {},
   "source": [
    "### <br><br><br>Recap\n",
    "Who here was like Bluey when they were a kid? Who was like Mackenzie?\n",
    "<br>What did we learn about Object-Oriented Programming?\n",
    "<br>Can you think of any uses of Object-Oriented Programming in research?"
   ]
  },
  {
   "cell_type": "markdown",
   "id": "9c4e33d7-1531-4ba3-aa9c-6384a7f82145",
   "metadata": {},
   "source": [
    "### <br>Object Classes in Python\n",
    "Python is a great language for the Object-Oriented Programming style (along with other styles).\n",
    "\n",
    "<br>To code in an Object-Oriented style, we are going to *define object **classes*** AKA \"decide who everyone is\". Each object class will have its own unique **attributes** (data, traits) and its own unique **methods** (actions, behaviors) that it can perform.\n",
    "\n",
    "We define how each class of object will behave and what pieces of data they have access to first (\"decide stuff\"), before we let our objects interact. \n",
    "\n",
    "Python coders: you are already familiar with built-in Python object classes like **strings**, **integers**, **floats**, **lists**, and **dictionaries**, as well as object classes that are defined in Python modules that you import into your notebooks/scripts, like the **DataFrame** object in **pandas**.\n",
    "\n",
    "Once we define an object **class**, we can create multiple **instances** of the object. For example, in the Bluey episode, both Honey and Bluey take on the role of *kitten* and they both follow the same behaviors."
   ]
  },
  {
   "cell_type": "markdown",
   "id": "aba22f4c-ac6f-4add-bc53-d9d2d4e8fb25",
   "metadata": {},
   "source": [
    "## <br><br>Let's code the Bluey episode *Shops*!\n",
    "Specifically, we will set up the same \"game\" they play at the end of the episode. First we need to \"decide stuff\"! We will need to define object classes for shopkeeper, assistant shopkeeper, customer, kitten, and shop."
   ]
  },
  {
   "cell_type": "markdown",
   "id": "b6023a79-5f87-4bb6-a55e-485a84c7706b",
   "metadata": {},
   "source": [
    "If this is your first time using a Jupyter notebook, it has both markdown cells, like this one, that contain text, and code cells, like the gray cell directly below. To run a gray code cell, click in it and type `shift+return` on your keyboard. Try it on the cell below:"
   ]
  },
  {
   "cell_type": "code",
   "execution_count": null,
   "id": "220e83a9-427f-4d9c-8f51-61460c0ba6c4",
   "metadata": {},
   "outputs": [],
   "source": [
    "print(\"Hello World.\")"
   ]
  },
  {
   "cell_type": "markdown",
   "id": "0ad3bfe1-2a9b-4eae-bdd0-4a1566807368",
   "metadata": {},
   "source": [
    "If you accidentally double click in a markdown cell, it will change its appearance. You can return it to normal by running it like you would a code cell - typing `shift+return`. Try it now. Double click on this text and then type `shift+return`."
   ]
  },
  {
   "cell_type": "markdown",
   "id": "14ff9812-e633-4e0d-b1e3-684eb25bfe71",
   "metadata": {},
   "source": [
    "### <br><br>Defining our first class\n",
    "Let's learn how to create our own object class. We'll start with `shopkeeper`. Let's start with the basics. \n",
    "\n",
    "<br>We start with a `class` statement. (Python coders: It is like the `def` statement we use to create our own function.) For now, we won't define any attributes or methods for the `shopkeeper`. We have to put *something* in the class statement, so we'll just write `pass`."
   ]
  },
  {
   "cell_type": "code",
   "execution_count": null,
   "id": "b0c49d55-01fc-4b47-a3a7-fb94fbf08260",
   "metadata": {},
   "outputs": [],
   "source": [
    "class shopkeeper:\n",
    "    pass"
   ]
  },
  {
   "cell_type": "markdown",
   "id": "2778186c-f6e6-4618-bcc0-1a9bd85023aa",
   "metadata": {},
   "source": [
    "<br><br>Once we've created a class, we can create multiple **instances** (multiple **objects**) of class **shopkeeper**, the same way we can work with multiple strings or multiple lists in the same notebook. We just give them different **variable** names:"
   ]
  },
  {
   "cell_type": "code",
   "execution_count": null,
   "id": "d6de9b86-6c04-4fa9-b1c1-3f8fb0c9b5ab",
   "metadata": {},
   "outputs": [],
   "source": [
    "Bluey = shopkeeper()"
   ]
  },
  {
   "cell_type": "code",
   "execution_count": null,
   "id": "8e84933b-4463-4d42-bf37-c3d604149c85",
   "metadata": {},
   "outputs": [],
   "source": [
    "print(Bluey)"
   ]
  },
  {
   "cell_type": "code",
   "execution_count": null,
   "id": "f83a9b48-0bb3-4b98-bf44-d295c57da0cf",
   "metadata": {},
   "outputs": [],
   "source": [
    "Chloe = shopkeeper()"
   ]
  },
  {
   "cell_type": "code",
   "execution_count": null,
   "id": "7a4c2fd4-5e19-44a5-9feb-91088aecd19a",
   "metadata": {},
   "outputs": [],
   "source": [
    "Chloe"
   ]
  },
  {
   "cell_type": "markdown",
   "id": "664e0234-bca1-42cb-8b79-1ba9b43cbb87",
   "metadata": {},
   "source": [
    "<br>When we run or print the variable, it tells us it is a shopkeeper object.\n",
    "<br><br>We can get a list of any methods or attributes that exist for an object using the `dir()` function in Python."
   ]
  },
  {
   "cell_type": "code",
   "execution_count": null,
   "id": "cedae691-77ef-401c-9e7f-4a31dbf1bf95",
   "metadata": {},
   "outputs": [],
   "source": [
    "dir(Bluey)"
   ]
  },
  {
   "cell_type": "markdown",
   "id": "bc889dcd-8001-4a19-b539-528e6698c5cc",
   "metadata": {},
   "source": [
    "<br>Whoa! We didn't create all that ourselves, but lots of stuff is happening behind the scenes when we create an object class."
   ]
  },
  {
   "cell_type": "markdown",
   "id": "f26df8cf-f900-4cc5-95ad-5e6d6c94f02c",
   "metadata": {},
   "source": [
    "#### <br><br>Exercise 1\n",
    "Create a new object class called `kitten`. You can just include `pass` for the code."
   ]
  },
  {
   "cell_type": "code",
   "execution_count": null,
   "id": "1db75ae2-4883-4554-a09e-9d60fedf6ce9",
   "metadata": {},
   "outputs": [],
   "source": []
  },
  {
   "cell_type": "markdown",
   "id": "5b80a23e-d219-4087-89d6-bae3499fd97c",
   "metadata": {},
   "source": [
    "Now create an instance of `kitten` called `Honey` and then print it to confirm it worked."
   ]
  },
  {
   "cell_type": "code",
   "execution_count": null,
   "id": "2ed001a9-c166-4c4e-8a89-ede14d738c75",
   "metadata": {},
   "outputs": [],
   "source": []
  },
  {
   "cell_type": "code",
   "execution_count": null,
   "id": "cdf3d443-ed5b-48ef-b7f3-0b3bad34449f",
   "metadata": {},
   "outputs": [],
   "source": []
  },
  {
   "cell_type": "markdown",
   "id": "1440401f-a6bc-4a32-943e-a3a02a11e05d",
   "metadata": {},
   "source": [
    "### <br><br><br>Adding attributes\n",
    "When we define a new object class, we also define the **attributes** and **methods** that are specific to this class. To start, we'll add just one attribute to the `shopkeeper` class: `shop`. This will store the name of the shop the shopkeeper works at. \n",
    "<br><br>To add attributes, we define an **initializer** method called `__init__` inside our class statement. The double underscores on each side make it a **dunder method**. Dunder methods are used behind the scenes in Python to define object classes. All Python objects have dunders, and now we're creating our own!\n",
    "<br><br>The `__init__` method definition takes one argument, which is traditionally called `self` to refer to the new object we just created. It allows us to refer to our new object inside our class statement as we create attributes and methods.\n",
    "<br><br>Inside the `__init__` method definition, we can create our attributes and their **default values**. Eventually, every shopkeeper will have the name of a particular shop where they work, but for now we will set the default shop to \"TBD\"."
   ]
  },
  {
   "cell_type": "code",
   "execution_count": null,
   "id": "506a371a-bbfe-4945-a879-230622c1c677",
   "metadata": {},
   "outputs": [],
   "source": [
    "class shopkeeper:\n",
    "    def __init__(self):\n",
    "        self.shop = \"TBD\""
   ]
  },
  {
   "cell_type": "code",
   "execution_count": null,
   "id": "7a1f10ad-45a3-45a1-a7bd-fc976d377107",
   "metadata": {},
   "outputs": [],
   "source": [
    "Bluey = shopkeeper()"
   ]
  },
  {
   "cell_type": "code",
   "execution_count": null,
   "id": "110e094f-d688-4bb8-9e09-d67e84ddf15e",
   "metadata": {},
   "outputs": [],
   "source": [
    "print(Bluey)"
   ]
  },
  {
   "cell_type": "markdown",
   "id": "bdbd5b38-2423-4f08-b22b-a8a37643ef95",
   "metadata": {},
   "source": [
    "<br><br>Now we can check out the shop attribute to see if it worked."
   ]
  },
  {
   "cell_type": "code",
   "execution_count": null,
   "id": "0fdf7606-d4d7-451d-b4f9-f42a9c1b99de",
   "metadata": {},
   "outputs": [],
   "source": [
    "Bluey.shop"
   ]
  },
  {
   "cell_type": "markdown",
   "id": "d2d4be22-b9d3-4407-a7ae-6be0e0d6ee80",
   "metadata": {},
   "source": [
    "<br><br>Let's try the `dir()` function now:"
   ]
  },
  {
   "cell_type": "code",
   "execution_count": null,
   "id": "e4f77bc0-6dc5-445b-b427-5d72893f7b38",
   "metadata": {},
   "outputs": [],
   "source": [
    "dir(Bluey)"
   ]
  },
  {
   "cell_type": "markdown",
   "id": "67e88909-c855-4a17-aff1-d94672978c23",
   "metadata": {},
   "source": [
    "<br>There's our attribute at the bottom!"
   ]
  },
  {
   "cell_type": "markdown",
   "id": "f4dfb35f-80d3-44d0-98b4-3ed4cc435649",
   "metadata": {},
   "source": [
    "#### <br><br>Exercise 2.\n",
    "Create an object class called `customer` that has two attributes, `kittens` and `dollarbucks`. For now, just give `kittens` some placeholder string like \"TBD\" as the default value. For `dollarbucks`, give it the default value of `10`."
   ]
  },
  {
   "cell_type": "code",
   "execution_count": null,
   "id": "5e486a95-32d7-4409-90ad-95a8d875dc68",
   "metadata": {},
   "outputs": [],
   "source": []
  },
  {
   "cell_type": "markdown",
   "id": "2bd0decf-d3e7-4ab2-bc76-91b318d5c3a6",
   "metadata": {},
   "source": [
    "Create a variable called `Mackenzie` that points to a `customer` object."
   ]
  },
  {
   "cell_type": "code",
   "execution_count": null,
   "id": "4fd23b3a-4495-4a16-bf12-c4ae30bfc1ad",
   "metadata": {},
   "outputs": [],
   "source": []
  },
  {
   "cell_type": "markdown",
   "id": "a6dd3d7e-04f2-44c1-ac5d-2770b71f28c1",
   "metadata": {},
   "source": [
    "Write code to return the `dollarbucks` attribute for `Mackenzie`."
   ]
  },
  {
   "cell_type": "code",
   "execution_count": null,
   "id": "90b3e29b-a657-4722-a553-5dca8530c921",
   "metadata": {},
   "outputs": [],
   "source": []
  },
  {
   "cell_type": "markdown",
   "id": "a8d887f9-4912-4d4e-88c1-1bd61bba5653",
   "metadata": {},
   "source": [
    "### <br><br><br>Assigning values to the attributes\n",
    "In our `shopkeeper` class, we don't need to leave the `shop` attribute \"TBD\". Instead, we want to get the `shop` name when we create each object instance.\n",
    "<br><br>In our `__init__` method definition, we can ask the user to provide arguments in addition to `self`. `self` always goes first."
   ]
  },
  {
   "cell_type": "code",
   "execution_count": null,
   "id": "cf5ac31c-6d95-41e0-be3e-dc91b562dea5",
   "metadata": {},
   "outputs": [],
   "source": [
    "class shopkeeper:\n",
    "    def __init__(self, shop_name):\n",
    "        self.shop = shop_name"
   ]
  },
  {
   "cell_type": "markdown",
   "id": "a0604912-d201-44e5-8467-ae844314ce8d",
   "metadata": {},
   "source": [
    "<br>Now when we created an instance of the object class, we pass it the argument that the class will use exactly how we coded it to:"
   ]
  },
  {
   "cell_type": "code",
   "execution_count": null,
   "id": "776b8b8b-7229-4327-b29a-5aa953fd6453",
   "metadata": {},
   "outputs": [],
   "source": [
    "Chloe = shopkeeper(\"kitten shop\")"
   ]
  },
  {
   "cell_type": "code",
   "execution_count": null,
   "id": "c6ec43f0-70f6-44db-b217-95ad975efb3e",
   "metadata": {},
   "outputs": [],
   "source": [
    "Chloe.shop"
   ]
  },
  {
   "cell_type": "markdown",
   "id": "f9ddf1b5-7012-4fda-b3c5-76333cadf276",
   "metadata": {},
   "source": [
    "<br>We can also change attributes of our instances using the Python assignment operator, `=`, after we've already created the instance:"
   ]
  },
  {
   "cell_type": "code",
   "execution_count": null,
   "id": "b2bfbe46-4e6e-4e6a-b0d4-10094a1b75b8",
   "metadata": {},
   "outputs": [],
   "source": [
    "Chloe.shop"
   ]
  },
  {
   "cell_type": "code",
   "execution_count": null,
   "id": "6ee548a9-ced6-43a0-af95-eb82ea7bbc20",
   "metadata": {},
   "outputs": [],
   "source": [
    "Chloe.shop = \"dog shop\""
   ]
  },
  {
   "cell_type": "code",
   "execution_count": null,
   "id": "454ccd25-5e9e-448b-9ece-44a73101b433",
   "metadata": {},
   "outputs": [],
   "source": [
    "Chloe.shop"
   ]
  },
  {
   "cell_type": "markdown",
   "id": "748f5bd9-69ae-410c-90c7-2f5c81998172",
   "metadata": {},
   "source": [
    "#### <br><br>Exercise 3.\n",
    "When we define our attributes, we can add more code than just the argument that we ask users to provide when they create the object. Let's say we want to give every customer in our game an extra 50 dollarbucks. Run the code below, and then change the code to give every `customer` an extra 50 dollarbucks. Run it again to check your work."
   ]
  },
  {
   "cell_type": "code",
   "execution_count": null,
   "id": "8b687ec9-0839-414d-b134-1a8cf2a81a1d",
   "metadata": {},
   "outputs": [],
   "source": [
    "class customer:\n",
    "    def __init__(self, money):\n",
    "        self.kittens = \"TBD\"\n",
    "        self.dollarbucks = money\n",
    "Mackenzie = customer(10)\n",
    "print(Mackenzie.dollarbucks)"
   ]
  },
  {
   "cell_type": "markdown",
   "id": "0aa61da5-b1a9-430e-a481-c32fd0134dc8",
   "metadata": {},
   "source": [
    "### <br><br><br>Defining method functions for our object classes\n",
    "Our shopkeeper will need to be able to \"doot\" items when the customer makes a purchase. We can write a method for `dooting`."
   ]
  },
  {
   "cell_type": "markdown",
   "id": "c8afafa5-d9c8-43c5-a93f-10adb71da160",
   "metadata": {},
   "source": [
    "<be><br>The method takes two arguments - `self` and an item to sell. For now we will just print some narrative text to the screen. In a full version of the game, we would write code to transfer items from the shop to the customer."
   ]
  },
  {
   "cell_type": "code",
   "execution_count": null,
   "id": "693b4b87-e49e-4e2a-8ec4-3f297fdfaa6f",
   "metadata": {},
   "outputs": [],
   "source": [
    "class shopkeeper:\n",
    "    def __init__(self, shop_name):\n",
    "        self.shop = shop_name\n",
    "    \n",
    "    def doot(self, item):\n",
    "        print(\"***Doot.***\")\n",
    "        print(f\"Shopkeeper hands {item} to the customer.\")\n",
    "        \n",
    "        "
   ]
  },
  {
   "cell_type": "markdown",
   "id": "4d8d1454-fd85-481a-8cef-d77099f14217",
   "metadata": {},
   "source": [
    "<br>Let's test it out. First we'll reassign Chloe to the object class (because we've changed the class since the last time we assigned her)."
   ]
  },
  {
   "cell_type": "code",
   "execution_count": null,
   "id": "2a1e3bfe-8e20-44a1-a8af-977247551c47",
   "metadata": {},
   "outputs": [],
   "source": [
    "Chloe = shopkeeper(\"kitten shop\")"
   ]
  },
  {
   "cell_type": "markdown",
   "id": "64a14c23-c833-4dab-9a9b-90e2009e7b19",
   "metadata": {},
   "source": [
    "<br>Now we'll doot an item."
   ]
  },
  {
   "cell_type": "code",
   "execution_count": null,
   "id": "63316128-8d91-478d-96dd-f64afb61cdf5",
   "metadata": {},
   "outputs": [],
   "source": [
    "Chloe.doot(\"kitten birthday cake\")"
   ]
  },
  {
   "cell_type": "markdown",
   "id": "849b4c5a-65af-47ce-b118-a54179478b5b",
   "metadata": {},
   "source": [
    "<br>Notice that we do not need to *pass* the `self` argument to the method when we *call* it, even though we did need to include it in the method definition."
   ]
  },
  {
   "cell_type": "markdown",
   "id": "265d79dc-6bca-46bf-b82a-f13f675308b1",
   "metadata": {},
   "source": [
    "#### <br><br>Exercise 4.\n",
    "Here is the code we wrote for the customer class. As a reminder, we pass it a number of dollarbucks when we create an instance of the class. Modify this code to define a new method in the `customer` class. The method should be called `enter_shop`. It should take the name of a `shop` as an argument (and don't forget it needs to take `self` as the first argument in the method definition). The method should print out \"\\*\\*\\*Da-ding.\\*\\*\\*\" when the function gets called."
   ]
  },
  {
   "cell_type": "code",
   "execution_count": null,
   "id": "360677a8-40b1-4547-9001-a453031ab898",
   "metadata": {},
   "outputs": [],
   "source": [
    "class customer:\n",
    "    def __init__(self, money):\n",
    "        self.kittens = \"TBD\"\n",
    "        self.dollarbucks = money\n",
    "        \n",
    "Mackenzie = customer(10)       "
   ]
  },
  {
   "cell_type": "markdown",
   "id": "78d9c796-6e31-477f-83d6-88a1f81e6296",
   "metadata": {},
   "source": [
    "<br>Run this code below to check if it worked."
   ]
  },
  {
   "cell_type": "code",
   "execution_count": null,
   "id": "0d60d09f-ef3a-440b-aa58-11cbb7370d20",
   "metadata": {},
   "outputs": [],
   "source": [
    "Mackenzie.enter_shop(\"kitten shop\")"
   ]
  },
  {
   "cell_type": "markdown",
   "id": "e875431d-fa68-43ac-9aac-84dbe59a86a5",
   "metadata": {},
   "source": [
    "### <br><br>Inheritance\n",
    "One nice trick in Python is that you can create new object classes (*child class*) that inherit all of the attributes and methods of a previously defined class (*parent class*).\n",
    "<br><br>If you remember from the Bluey episode, the assistant has to be ready to take over the dooting if the shopkeeper is sick AND they have to hand things to the shopkeeper to be dooted. So they need the same attributes and methods of the shopkeeper, plus a new method for handing things to the shopkeeper.\n",
    "<br><br>We could copy and paste all the shopkeeper's code for the assistant, or we can just have the new assistant class **inherit** all the code. To do this, we simply create a new class and inlude the parent class name in parentheses after the new child class name:"
   ]
  },
  {
   "cell_type": "code",
   "execution_count": null,
   "id": "6bfef50e-1768-4896-90b5-1387cc9c682d",
   "metadata": {},
   "outputs": [],
   "source": [
    "class assistant(shopkeeper):\n",
    "    pass"
   ]
  },
  {
   "cell_type": "code",
   "execution_count": null,
   "id": "743f1e33-e06c-4d00-b660-74f1253197fb",
   "metadata": {},
   "outputs": [],
   "source": [
    "Rusty = assistant(\"kitten shop\")\n",
    "print(Rusty.shop)\n",
    "Rusty.doot(\"lead\")"
   ]
  },
  {
   "cell_type": "markdown",
   "id": "ab7f4e6e-28c7-4185-b652-19332bcbe3aa",
   "metadata": {},
   "source": [
    "<br>The assistant can now do everything the shopkeeper can do! It inherited all the attributes and methods."
   ]
  },
  {
   "cell_type": "markdown",
   "id": "4618e686-600a-4391-859c-a77fd347076c",
   "metadata": {},
   "source": [
    "Let's add a new method to the assistant:"
   ]
  },
  {
   "cell_type": "code",
   "execution_count": null,
   "id": "b26b2741-3ecd-44f0-9561-a6c6b079c51e",
   "metadata": {},
   "outputs": [],
   "source": [
    "class assistant(shopkeeper):\n",
    "    def hand_stuff(self, item):\n",
    "        print(f\"The assistant hands the {item} to the shopkeeper.\")"
   ]
  },
  {
   "cell_type": "code",
   "execution_count": null,
   "id": "4f46fd4f-4982-49bb-a0b3-c69fd47280a8",
   "metadata": {},
   "outputs": [],
   "source": [
    "Rusty = assistant(\"kitten shop\")"
   ]
  },
  {
   "cell_type": "code",
   "execution_count": null,
   "id": "abc304f7-f333-4d3a-99d3-63a603e7a509",
   "metadata": {},
   "outputs": [],
   "source": [
    "Rusty.hand_stuff(\"lead\")"
   ]
  },
  {
   "cell_type": "markdown",
   "id": "eb8c369d-4c57-4a47-afbe-c561a970159e",
   "metadata": {},
   "source": [
    "<br>Chloe, our shopkeeper, can't hand stuff:"
   ]
  },
  {
   "cell_type": "code",
   "execution_count": null,
   "id": "bf65bc56-6ac7-433d-9525-8a2907f9e40c",
   "metadata": {},
   "outputs": [],
   "source": [
    "Chloe.hand_stuff(\"lead\")"
   ]
  },
  {
   "cell_type": "markdown",
   "id": "f3e80c08-9b04-4670-ac98-81f60ca873c2",
   "metadata": {},
   "source": [
    "### <br><br>THIS SECTION STILL BEING EDITED Object Oriented Programming\n",
    "Now that you know the basics for creating your own objects, you might be thinking about how you can apply it to your own code. Setting up object classes and their rules first, and then having them interact, is a style of coding called Object Oriented Programming. If you took the Python Fundamentals three-day workshop with me, we focused on more of a \"procedural\" style of coding - working from the top of the code to the bottom and emphasizing logic and loops. Both styles work well in Python. We could have taken a more procedural approach to create the Fantasy Orchestra league by using dictionaries, loops, and if/then statements.\n",
    "<br><br>There is an episode of the children's show, Bluey, that really reflects the style of Object Oriented Programming. In Season 1, Episode 23 - Shops - a group of kids are playing pretend. One kid just wants to start, but another kid wants to lay out all the rules first: Who will be the shopkeeper? Who will be the customer? What does the shop sell? What will the customer buy? What will be used for money? By the time everything is decided and they finally play, it only takes about ten seconds to play out the scenario! This is classic object oriented programming. \n",
    "<br><br>We didn't have time to get to this today, but Object Classes can be reused in other code, and within your notebook you can create a new object class that inherits the attributes and methods from a Parent class, so you don't need to retype all that code and can specify small changes.\n",
    "<br><br>If you're creating objects and setting their rules and then simulating situations that might result, that is called Agent Based Modeling - we plan to have a workshop on that next year!"
   ]
  },
  {
   "cell_type": "code",
   "execution_count": null,
   "id": "1fa4a5e6-e1b9-46fe-a7bc-070903f652eb",
   "metadata": {},
   "outputs": [],
   "source": []
  }
 ],
 "metadata": {
  "kernelspec": {
   "display_name": "Python 3 (ipykernel)",
   "language": "python",
   "name": "python3"
  },
  "language_info": {
   "codemirror_mode": {
    "name": "ipython",
    "version": 3
   },
   "file_extension": ".py",
   "mimetype": "text/x-python",
   "name": "python",
   "nbconvert_exporter": "python",
   "pygments_lexer": "ipython3",
   "version": "3.9.13"
  }
 },
 "nbformat": 4,
 "nbformat_minor": 5
}
