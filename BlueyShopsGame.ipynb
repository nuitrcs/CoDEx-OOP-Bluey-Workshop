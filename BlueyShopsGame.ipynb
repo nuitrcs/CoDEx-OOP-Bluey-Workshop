{
 "cells": [
  {
   "cell_type": "markdown",
   "id": "359dd00f-8f7d-4e21-ae4b-2b2fdcc37d65",
   "metadata": {},
   "source": [
    "# Let's set up a shop!\n",
    "Here is code already written to play shops! This is just one way to do it.\n",
    "<br>You will need to run all the cells to store the object classes in memory."
   ]
  },
  {
   "cell_type": "markdown",
   "id": "10832e48-2bda-4d33-8d28-3311ff0c22fc",
   "metadata": {},
   "source": [
    "### Defining the object classes"
   ]
  },
  {
   "cell_type": "code",
   "execution_count": null,
   "id": "b0349161-cc3c-443f-baad-5a0d3a0ec206",
   "metadata": {},
   "outputs": [],
   "source": [
    "class shop:\n",
    "    def __init__(self):\n",
    "        self.stuff = []\n",
    "        self.shopkeeper = None\n",
    "        self.assistant = None\n",
    "        self.dollarbucks = 0\n",
    "    \n",
    "    def sell_item(self, buyer, things):\n",
    "        if self.shopkeeper.health:\n",
    "            print('\\nshopkeeper: \"Certainly customer, my assistant will get that for you.\"')\n",
    "            self.assistant.hand_stuff(things, self.shopkeeper)\n",
    "            self.shopkeeper.doot_things(buyer)\n",
    "        else:\n",
    "            print('\\nassistant: \"Certainly customer, I will get that for you.\"')\n",
    "            self.assistant.hand_stuff(things, self.assistant)\n",
    "            self.assistant.doot_things(buyer)\n",
    "        "
   ]
  },
  {
   "cell_type": "code",
   "execution_count": null,
   "id": "9ad451a5-1497-4862-945c-d999de5a97cf",
   "metadata": {},
   "outputs": [],
   "source": [
    "class shopkeeper:\n",
    "    def __init__(self, shop_name):\n",
    "        self.shop = shop_name\n",
    "        self.health = True\n",
    "        self.holding = []\n",
    "        shop_name.__setattr__(self.__class__.__name__, self)\n",
    "    \n",
    "    def doot_things(self, buyer):\n",
    "        if len(self.holding) == 0:\n",
    "            pass\n",
    "        else:\n",
    "            for thing in self.holding:\n",
    "                if thing == \"kitten birthday cake\":\n",
    "                    print('\\ncustomer: \"Hmmm... that\\'s not the kitten birthday cake I really want... but I guess it will do.\"')\n",
    "                print(\"******Doot.******\")\n",
    "                print(f'\\n{self.__class__.__name__}: \"Here you go.\"\\n**{self.__class__.__name__} hands {thing} to customer.**')\n",
    "                buyer.stuff.append(thing)\n",
    "            self.holding = []\n",
    "            print(f'\\n{self.__class__.__name__}: \"And here\\'s some kitten treats for your pets.\\n**{self.__class__.__name__} hands treats to pets.**')\n",
    "            for kitten in buyer.kittens:\n",
    "                kitten.kitten_treats += 1\n",
    "            print('\\ncustomer: \"Thanks. Here\\'s some dollarbucks\"')\n",
    "            if buyer.dollarbucks < 2:\n",
    "                print(f'\\n{self.__class__.__name__}: \"You don\\'t have enough dollarbucks! I will let you have this stuff for free, but don\\'t come back to my store again!\"')\n",
    "            buyer.dollarbucks -= 2\n",
    "            self.shop.dollarbucks += 2"
   ]
  },
  {
   "cell_type": "code",
   "execution_count": null,
   "id": "132cb61c-1579-400f-b448-2aebe1aa4c7a",
   "metadata": {},
   "outputs": [],
   "source": [
    "class assistant(shopkeeper):\n",
    "    def check_health(self):\n",
    "        print(f'\\nassistant: \"Are you feeling sick, shopkeeper?\"')\n",
    "        if self.shop.shopkeeper.health:\n",
    "            print('shopkeeper: \"No, I\\'m fine.\"')\n",
    "        else:\n",
    "            print('\\nshopkeeper: \"Yes, I am sick. You will need to take over.\"')\n",
    "    \n",
    "    def hand_stuff(self, things, dooter):\n",
    "        for thing in things:\n",
    "            if thing not in self.shop.stuff:\n",
    "                print(f'\\nassistant: \"Actually, we don\\'t have {thing} in stock.\"')\n",
    "            else:\n",
    "                if self.shop.shopkeeper.health:\n",
    "                    print(f'**assistant hands {thing} to shopkeeper.**')\n",
    "                else:\n",
    "                    print(f'**assistant hands {thing} to themself.**')\n",
    "                self.shop.stuff.remove(thing)\n",
    "                dooter.holding.append(thing)"
   ]
  },
  {
   "cell_type": "code",
   "execution_count": null,
   "id": "a5719c8b-f367-4151-8580-375a2d82a1b5",
   "metadata": {},
   "outputs": [],
   "source": [
    "class customer:\n",
    "    def __init__(self):\n",
    "        self.kittens = []\n",
    "        self.stuff = []\n",
    "        self.dollarbucks = 10\n",
    "        self.shop = None\n",
    "        \n",
    "    def enter_shop(self, shop):\n",
    "        self.shop = shop\n",
    "        print(\"******Da-ding!******\")\n",
    "        \n",
    "    def leave_shop(self):\n",
    "        print('\\nshopkeeper and assistant: \"Bye!\"')\n",
    "        print(\"******Da-ding!******\")\n",
    "        self.shop = []\n",
    "        \n",
    "    def buy_stuff(self, *things):\n",
    "        merchandise = ', '.join(things)\n",
    "        print(f'\\n{self.__class__.__name__}: \"Hi, I\\'m here to buy a {merchandise}.\"')\n",
    "        self.shop.sell_item(self, things)"
   ]
  },
  {
   "cell_type": "code",
   "execution_count": null,
   "id": "8ed57eb8-30e5-4557-8d4e-66d94eb364f6",
   "metadata": {},
   "outputs": [],
   "source": [
    "class kitten:\n",
    "    def __init__(self):\n",
    "        self.kitten_treats = 0\n",
    "    \n",
    "    def meow(self):\n",
    "        print(\"**kitten waves paw**\")\n",
    "        print(\"Meow.......Meow.......\")\n",
    "    def on_change(self,value):\n",
    "        if value > 0:\n",
    "            self.meow()\n",
    "    def __setattr__(self, name, value):\n",
    "        self.__dict__[name] = value\n",
    "        self.on_change(value)"
   ]
  },
  {
   "cell_type": "markdown",
   "id": "66a2c0a2-1c1e-4ddd-b46f-dffbe2a991b1",
   "metadata": {},
   "source": [
    "### <br><br>Assigning instances of our classes, and assigning attributes where needed"
   ]
  },
  {
   "cell_type": "code",
   "execution_count": null,
   "id": "3bd91d71-e6f7-4a76-9aa3-e242c728ac5c",
   "metadata": {},
   "outputs": [],
   "source": [
    "kitten_shop = shop()\n",
    "kitten_shop.stuff.append(\"lead\")\n",
    "kitten_shop.stuff.append(\"kitten birthday cake\")\n",
    "\n",
    "Chloe = shopkeeper(kitten_shop)\n",
    "\n",
    "Honey = kitten()\n",
    "Bluey = kitten()\n",
    "\n",
    "Mackenzie = customer()\n",
    "Mackenzie.kittens = [Bluey, Honey]\n",
    "\n",
    "Rusty = assistant(kitten_shop)"
   ]
  },
  {
   "cell_type": "markdown",
   "id": "dc72c21d-0a9f-41d1-b626-50f8544a4692",
   "metadata": {},
   "source": [
    "### <br><br>Checking the attributes of our objects"
   ]
  },
  {
   "cell_type": "code",
   "execution_count": null,
   "id": "2caba1a4-7804-4a66-9145-f4b329ad7c73",
   "metadata": {},
   "outputs": [],
   "source": [
    "Mackenzie.stuff"
   ]
  },
  {
   "cell_type": "code",
   "execution_count": null,
   "id": "e75fffac-be63-43ca-8f99-ce181cb5fd4b",
   "metadata": {},
   "outputs": [],
   "source": [
    "Mackenzie.dollarbucks"
   ]
  },
  {
   "cell_type": "code",
   "execution_count": null,
   "id": "c3fb491e-e892-49ba-aeec-8a75be4e8743",
   "metadata": {},
   "outputs": [],
   "source": [
    "kitten_shop.stuff"
   ]
  },
  {
   "cell_type": "code",
   "execution_count": null,
   "id": "57a03bd1-aad1-463f-bcab-38d937b52752",
   "metadata": {},
   "outputs": [],
   "source": [
    "kitten_shop.dollarbucks"
   ]
  },
  {
   "cell_type": "code",
   "execution_count": null,
   "id": "c67863fa-b858-4644-81a8-301b06a2d9e8",
   "metadata": {},
   "outputs": [],
   "source": [
    "Honey.kitten_treats"
   ]
  },
  {
   "cell_type": "code",
   "execution_count": null,
   "id": "9f12714a-dd65-465a-b882-a1c7ea42f615",
   "metadata": {},
   "outputs": [],
   "source": [
    "Bluey.kitten_treats"
   ]
  },
  {
   "cell_type": "markdown",
   "id": "00785a68-4f10-414e-9684-ebad1af11747",
   "metadata": {},
   "source": [
    "### <br><br>Checking if our shopkeeper is sick"
   ]
  },
  {
   "cell_type": "code",
   "execution_count": null,
   "id": "a91f2c2a-ce4f-4c98-89d9-da3f4e060461",
   "metadata": {},
   "outputs": [],
   "source": [
    "Rusty.check_health()"
   ]
  },
  {
   "cell_type": "markdown",
   "id": "065ef033-78b2-471f-81c6-5f67adf846dd",
   "metadata": {},
   "source": [
    "# <br><br>Just start!"
   ]
  },
  {
   "cell_type": "code",
   "execution_count": null,
   "id": "2b70215a-d00b-4358-bf0f-d78a188f37aa",
   "metadata": {},
   "outputs": [],
   "source": [
    "#Here it is in three lines of code!\n",
    "Mackenzie.enter_shop(kitten_shop)\n",
    "Mackenzie.buy_stuff(\"lead\")\n",
    "Mackenzie.leave_shop()"
   ]
  },
  {
   "cell_type": "markdown",
   "id": "f1b86a4c-6edc-4dba-8b30-c79e05a14654",
   "metadata": {},
   "source": [
    "<br>3 out of 99 total lines of code is 3 percent (I don't count the code where we checked out the attributes - that was just for fun). The game of shops takes up 5 percent of the episode, so we're pretty close!"
   ]
  },
  {
   "cell_type": "markdown",
   "id": "6548e898-13d0-456a-84c9-dd1fde1db695",
   "metadata": {},
   "source": [
    "### <br><br>Checking the attributes of our objects (after our game)\n",
    "Let's check what's happened to our objects, so that you can see I didn't just write code to print out all that text!"
   ]
  },
  {
   "cell_type": "code",
   "execution_count": null,
   "id": "25ff6059-0e5c-438c-8fe4-ae9b35fafcd8",
   "metadata": {},
   "outputs": [],
   "source": [
    "Mackenzie.stuff"
   ]
  },
  {
   "cell_type": "code",
   "execution_count": null,
   "id": "60b13c42-64b5-4428-8636-7d20e61a4e35",
   "metadata": {},
   "outputs": [],
   "source": [
    "Mackenzie.dollarbucks"
   ]
  },
  {
   "cell_type": "code",
   "execution_count": null,
   "id": "8484f3c9-05db-4565-b9cc-b3e324960d69",
   "metadata": {},
   "outputs": [],
   "source": [
    "kitten_shop.stuff"
   ]
  },
  {
   "cell_type": "code",
   "execution_count": null,
   "id": "50fb0e5a-9ddf-4134-abd3-c841ca4b3926",
   "metadata": {},
   "outputs": [],
   "source": [
    "kitten_shop.dollarbucks"
   ]
  },
  {
   "cell_type": "code",
   "execution_count": null,
   "id": "491df900-0434-40e6-9719-9e547b40e832",
   "metadata": {},
   "outputs": [],
   "source": [
    "Honey.kitten_treats"
   ]
  },
  {
   "cell_type": "code",
   "execution_count": null,
   "id": "ba6450a0-20ac-4c8d-a5d0-7fd0346b9bc5",
   "metadata": {},
   "outputs": [],
   "source": [
    "Bluey.kitten_treats"
   ]
  },
  {
   "cell_type": "markdown",
   "id": "ce42110e-4f2d-4ca6-a268-7b34e8a7b926",
   "metadata": {},
   "source": [
    "## <br><br><br>Things you can play around with\n",
    "You can make changes to the game and then see how it plays out differently. No need to change the class definitions, you can just change the variable assignments, attributes, and final method calls.\n",
    "<br><br>I'll paste the original variable assignments, health check, and final game code below for you to play around with.\n",
    "<br><br>Here are some ideas for changes you can make:\n",
    "- Give the store new items to sell.\n",
    "- Make Rusty the shopkeeper, Bluey the assistant, and Chloe a kitten.\n",
    "- Can you figure out how to change the shopkeeper from healthy to sick? (Hint: the `health` attribute is currently set to `True`)\n",
    "- Can you figure out how to set the customer's dollarbucks count to 0?\n",
    "- What happens if the customer buys a `kitten birthday cake`?\n",
    "- What happens if the customer buys more than one thing?\n",
    "- What happens if the customer tries to buy something the shop doesn't have?\n",
    "<br><br>Try making one change at a time to test out what happens."
   ]
  },
  {
   "cell_type": "markdown",
   "id": "da49712c-29ac-43cd-9a5a-916a96cd7a13",
   "metadata": {},
   "source": [
    "#### <br>Deciding who everyone is"
   ]
  },
  {
   "cell_type": "code",
   "execution_count": null,
   "id": "c70adf89-15f5-4d08-b208-1df5a62834f2",
   "metadata": {},
   "outputs": [],
   "source": [
    "kitten_shop = shop()\n",
    "kitten_shop.stuff.append(\"lead\")\n",
    "kitten_shop.stuff.append(\"kitten birthday cake\")\n",
    "\n",
    "Chloe = shopkeeper(kitten_shop)\n",
    "\n",
    "Honey = kitten()\n",
    "Bluey = kitten()\n",
    "\n",
    "Mackenzie = customer()\n",
    "Mackenzie.kittens = [Bluey, Honey]\n",
    "\n",
    "Rusty = assistant(kitten_shop)"
   ]
  },
  {
   "cell_type": "markdown",
   "id": "4bb38110-3e38-435e-9973-0b968047bcca",
   "metadata": {},
   "source": [
    "#### <br>Do a health check!"
   ]
  },
  {
   "cell_type": "code",
   "execution_count": null,
   "id": "c00b1100-e515-4d05-8f67-30371042b1d0",
   "metadata": {},
   "outputs": [],
   "source": [
    "#If you changed the assignments of characters above, \n",
    "#you'll need to change the name here, too.\n",
    "\n",
    "Rusty.check_health()"
   ]
  },
  {
   "cell_type": "markdown",
   "id": "bae14bac-87e9-4fcd-b0c7-dec8e5e70652",
   "metadata": {},
   "source": [
    "#### <br>Is anyone gonna stop me?"
   ]
  },
  {
   "cell_type": "code",
   "execution_count": null,
   "id": "9255a47f-1f14-4369-82b5-b318781ae4b6",
   "metadata": {},
   "outputs": [],
   "source": [
    "#If you changed the store name or the customer character's\n",
    "#assignment above, you'll need to change it here, too.\n",
    "\n",
    "Mackenzie.enter_shop(kitten_shop)\n",
    "Mackenzie.buy_stuff(\"lead\")\n",
    "Mackenzie.leave_shop()"
   ]
  },
  {
   "cell_type": "markdown",
   "id": "d3f42c4e-9e6f-4420-afe5-239fc75960fe",
   "metadata": {},
   "source": [
    "#### <br><br>Even more advanced things to try\n",
    "Can you create multiple shops and have the customer shop in all of them?\n",
    "<br><br>Can you create a new function in the `shop` class called `restock` that you can run between customers to give the store more items?"
   ]
  },
  {
   "cell_type": "code",
   "execution_count": null,
   "id": "3f5e2e61-27bc-4f6b-990e-9afc4523389b",
   "metadata": {},
   "outputs": [],
   "source": []
  }
 ],
 "metadata": {
  "kernelspec": {
   "display_name": "Python 3 (ipykernel)",
   "language": "python",
   "name": "python3"
  },
  "language_info": {
   "codemirror_mode": {
    "name": "ipython",
    "version": 3
   },
   "file_extension": ".py",
   "mimetype": "text/x-python",
   "name": "python",
   "nbconvert_exporter": "python",
   "pygments_lexer": "ipython3",
   "version": "3.9.13"
  }
 },
 "nbformat": 4,
 "nbformat_minor": 5
}
